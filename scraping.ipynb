{
 "cells": [
  {
   "cell_type": "code",
   "execution_count": 4,
   "metadata": {},
   "outputs": [],
   "source": [
    "import requests\n",
    "import time\n",
    "import pandas as pd\n",
    "from bs4 import BeautifulSoup"
   ]
  },
  {
   "cell_type": "code",
   "execution_count": 7,
   "metadata": {},
   "outputs": [],
   "source": [
    "def get_matches(main_url,years):\n",
    "    matches = []\n",
    "    count = 0\n",
    "    export_links = []\n",
    "    for year in years:\n",
    "        data = requests.get(main_url)\n",
    "        soup = BeautifulSoup(data.text)\n",
    "        stat_table = soup.select('table.stats_table')[0]\n",
    "        links = stat_table.find_all('a')\n",
    "        links = [l.get('href') for l in links]\n",
    "        links = [l for l in links if '/squads/' in l]\n",
    "        links =  [f'https://fbref.com{l}' for l in links]\n",
    "        previous_season = soup.select(\"a.prev\")[0].get(\"href\")\n",
    "        main_url = f\"https://fbref.com{previous_season}\"\n",
    "        \n",
    "        for l in links:\n",
    "            export_links.append(l)\n",
    "            count += 1\n",
    "            print(f'{count}: match proccesing link: {l}')\n",
    "            match_data = requests.get(l).text\n",
    "            match = pd.read_html(match_data, match='Scores & Fixtures')[0]\n",
    "            match.columns  = [c.lower() for c in match.columns]\n",
    "            match['year'] = year\n",
    "            matches.append(match)\n",
    "            time.sleep(1)\n",
    "\n",
    "    return matches,export_links\n",
    "\n",
    "\n",
    "def get_shootings(url):\n",
    "    team_name = url.split('/')[-1].lower().replace('-stats',\"\").replace('-',\" \")\n",
    "    data = requests.get(url)\n",
    "    soup = BeautifulSoup(data.text)\n",
    "    links = soup.find_all('a')\n",
    "    links = [l.get('href') for l in links]\n",
    "    links = [l for l in links if  l and '/all_comps/shooting/' in l]\n",
    "    shooting_link = f'https://fbref.com{links[0]}'\n",
    "    url_data = requests.get(shooting_link)\n",
    "    shooting = pd.read_html(url_data.text, match = 'Shooting')[0]\n",
    "    shooting.columns = shooting.columns.droplevel()\n",
    "    shooting.columns  = [c.lower() for c in shooting.columns]\n",
    "    shooting['team'] = team_name\n",
    "    return shooting\n",
    "\n",
    "\n",
    "def merge_tables(data1,data2,filtered_columns,on_column):\n",
    "    try:\n",
    "        merged_data = pd.merge(data1,data2[filtered_columns], how='left',on= on_column)\n",
    "    except ValueError:\n",
    "        print('not found')\n",
    "        return None\n",
    "    return merged_data\n",
    "\n",
    "\n",
    "\n",
    "def combine_all_data(years):\n",
    "    #get matches tables\n",
    "    matches,main_links = get_matches(url,years)\n",
    "    \n",
    "    #get shootings tables\n",
    "    shootings = []\n",
    "    count = 0\n",
    "    for l in main_links:\n",
    "        count += 1\n",
    "        print(f'{count}: shooting proccesing link: {url}')\n",
    "        shooting = get_shootings(l)\n",
    "        shootings.append(shooting)\n",
    "        time.sleep(1)\n",
    "\n",
    "    #merge tables\n",
    "    all_matches = []    \n",
    "    for i in range(len(matches)):\n",
    "        all_matches.append(merge_tables(matches[i],shootings[i],columns,'date'))\n",
    "\n",
    "    #concat all tables    \n",
    "    data_combined = pd.concat(all_matches)    \n",
    "    return data_combined\n"
   ]
  },
  {
   "cell_type": "code",
   "execution_count": null,
   "metadata": {},
   "outputs": [],
   "source": [
    "url = 'https://fbref.com/en/comps/9/Premier-League-Stats'\n",
    "columns = ['date','team','sh','sot','dist','fk','pk']\n",
    "years = list(range(2022, 2020, -1))\n",
    "final_data = combine_all_data(years)\n",
    "final_data.to_csv('matches.csv')\n"
   ]
  },
  {
   "cell_type": "code",
   "execution_count": null,
   "metadata": {},
   "outputs": [
    {
     "data": {
      "text/plain": [
       "(1915, 26)"
      ]
     },
     "execution_count": 18,
     "metadata": {},
     "output_type": "execute_result"
    }
   ],
   "source": [
    "final_data.shape"
   ]
  },
  {
   "cell_type": "code",
   "execution_count": null,
   "metadata": {},
   "outputs": [
    {
     "data": {
      "text/plain": [
       "2021    960\n",
       "2022    955\n",
       "Name: year, dtype: int64"
      ]
     },
     "execution_count": 20,
     "metadata": {},
     "output_type": "execute_result"
    }
   ],
   "source": [
    "final_data.year.value_counts()"
   ]
  },
  {
   "cell_type": "code",
   "execution_count": null,
   "metadata": {},
   "outputs": [
    {
     "data": {
      "text/plain": [
       "chelsea                     120\n",
       "manchester city             119\n",
       "liverpool                   116\n",
       "tottenham hotspur           113\n",
       "leicester city              111\n",
       "manchester united           110\n",
       "arsenal                     103\n",
       "west ham united             100\n",
       "everton                      90\n",
       "southampton                  89\n",
       "brighton and hove albion     87\n",
       "burnley                      86\n",
       "crystal palace               84\n",
       "wolverhampton wanderers      84\n",
       "aston villa                  83\n",
       "newcastle united             83\n",
       "leeds united                 82\n",
       "brentford                    44\n",
       "norwich city                 43\n",
       "fulham                       43\n",
       "sheffield united             43\n",
       "watford                      41\n",
       "west bromwich albion         41\n",
       "Name: team, dtype: int64"
      ]
     },
     "execution_count": 21,
     "metadata": {},
     "output_type": "execute_result"
    }
   ],
   "source": [
    "final_data.team.value_counts()"
   ]
  },
  {
   "cell_type": "code",
   "execution_count": null,
   "metadata": {},
   "outputs": [],
   "source": []
  }
 ],
 "metadata": {
  "interpreter": {
   "hash": "ff514080f6f141fa30927d2eb1cd1793a0032bd7adceb009c10ca689f5dc9966"
  },
  "kernelspec": {
   "display_name": "Python 3.9.7 ('base')",
   "language": "python",
   "name": "python3"
  },
  "language_info": {
   "codemirror_mode": {
    "name": "ipython",
    "version": 3
   },
   "file_extension": ".py",
   "mimetype": "text/x-python",
   "name": "python",
   "nbconvert_exporter": "python",
   "pygments_lexer": "ipython3",
   "version": "3.9.7"
  },
  "orig_nbformat": 4
 },
 "nbformat": 4,
 "nbformat_minor": 2
}
