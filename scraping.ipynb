{
 "cells": [
  {
   "cell_type": "code",
   "execution_count": 1,
   "metadata": {},
   "outputs": [],
   "source": [
    "import requests\n",
    "import pandas as pd\n",
    "from bs4 import BeautifulSoup"
   ]
  },
  {
   "cell_type": "code",
   "execution_count": 14,
   "metadata": {},
   "outputs": [],
   "source": [
    "def get_matches(main_url,years):\n",
    "    matches = []\n",
    "    count = 0\n",
    "    export_links = []\n",
    "    for year in years:\n",
    "        data = requests.get(main_url)\n",
    "        soup = BeautifulSoup(data.text)\n",
    "        stat_table = soup.select('table.stats_table')[0]\n",
    "        links = stat_table.find_all('a')\n",
    "        links = [l.get('href') for l in links]\n",
    "        links = [l for l in links if '/squads/' in l]\n",
    "        links =  [f'https://fbref.com{l}' for l in links]\n",
    "        previous_season = soup.select(\"a.prev\")[0].get(\"href\")\n",
    "        main_url = f\"https://fbref.com{previous_season}\"\n",
    "        \n",
    "        for l in links:\n",
    "            export_links.append(l)\n",
    "            count += 1\n",
    "            print(f'{count}: match proccesing link: {l}')\n",
    "            match_data = requests.get(l).text\n",
    "            match = pd.read_html(match_data, match='Scores & Fixtures')[0]\n",
    "            match.columns  = [c.lower() for c in match.columns]\n",
    "            match['year'] = year\n",
    "            matches.append(match)\n",
    "\n",
    "    return matches,export_links\n",
    "\n",
    "\n",
    "def get_shootings(url):\n",
    "    team_name = url.split('/')[-1].lower().replace('-stats',\"\").replace('-',\" \")\n",
    "    data = requests.get(url)\n",
    "    soup = BeautifulSoup(data.text)\n",
    "    links = soup.find_all('a')\n",
    "    links = [l.get('href') for l in links]\n",
    "    links = [l for l in links if  l and '/all_comps/shooting/' in l]\n",
    "    shooting_link = f'https://fbref.com{links[0]}'\n",
    "    url_data = requests.get(shooting_link)\n",
    "    shooting = pd.read_html(url_data.text, match = 'Shooting')[0]\n",
    "    shooting.columns = shooting.columns.droplevel()\n",
    "    shooting.columns  = [c.lower() for c in shooting.columns]\n",
    "    shooting['team'] = team_name\n",
    "    return shooting\n",
    "\n",
    "\n",
    "def merge_tables(data1,data2,filtered_columns,on_column):\n",
    "    try:\n",
    "        merged_data = pd.merge(data1,data2[filtered_columns], how='left',on= on_column)\n",
    "    except ValueError:\n",
    "        print('not found')\n",
    "        return None\n",
    "    return merged_data\n",
    "\n",
    "\n",
    "\n",
    "def combine_all_data(years):\n",
    "    #get matches tables\n",
    "    matches,main_links = get_matches(url,years)\n",
    "    \n",
    "    #get shootings tables\n",
    "    shootings = []\n",
    "    count = 0\n",
    "    for l in main_links:\n",
    "        count += 1\n",
    "        print(f'{count}: shooting proccesing link: {url}')\n",
    "        shooting = get_shootings(l)\n",
    "        shootings.append(shooting)\n",
    "\n",
    "    #merge tables\n",
    "    all_matches = []    \n",
    "    for i in range(len(matches)):\n",
    "        all_matches.append(merge_tables(matches[i],shootings[i],columns,'date'))\n",
    "\n",
    "    #concat all tables    \n",
    "    data_combined = pd.concat(all_matches)    \n",
    "    return data_combined\n"
   ]
  },
  {
   "cell_type": "code",
   "execution_count": 15,
   "metadata": {},
   "outputs": [
    {
     "name": "stdout",
     "output_type": "stream",
     "text": [
      "1: match proccesing link: https://fbref.com/en/squads/b8fd03ef/Manchester-City-Stats\n",
      "2: match proccesing link: https://fbref.com/en/squads/822bd0ba/Liverpool-Stats\n",
      "3: match proccesing link: https://fbref.com/en/squads/cff3d9bb/Chelsea-Stats\n",
      "4: match proccesing link: https://fbref.com/en/squads/361ca564/Tottenham-Hotspur-Stats\n",
      "5: match proccesing link: https://fbref.com/en/squads/18bb7c10/Arsenal-Stats\n",
      "6: match proccesing link: https://fbref.com/en/squads/19538871/Manchester-United-Stats\n",
      "7: match proccesing link: https://fbref.com/en/squads/7c21e445/West-Ham-United-Stats\n",
      "8: match proccesing link: https://fbref.com/en/squads/a2d435b3/Leicester-City-Stats\n",
      "9: match proccesing link: https://fbref.com/en/squads/d07537b9/Brighton-and-Hove-Albion-Stats\n",
      "10: match proccesing link: https://fbref.com/en/squads/8cec06e1/Wolverhampton-Wanderers-Stats\n",
      "11: match proccesing link: https://fbref.com/en/squads/b2b47a98/Newcastle-United-Stats\n",
      "12: match proccesing link: https://fbref.com/en/squads/47c64c55/Crystal-Palace-Stats\n",
      "13: match proccesing link: https://fbref.com/en/squads/cd051869/Brentford-Stats\n",
      "14: match proccesing link: https://fbref.com/en/squads/8602292d/Aston-Villa-Stats\n",
      "15: match proccesing link: https://fbref.com/en/squads/33c895d4/Southampton-Stats\n",
      "16: match proccesing link: https://fbref.com/en/squads/d3fd31cc/Everton-Stats\n",
      "17: match proccesing link: https://fbref.com/en/squads/5bfb9659/Leeds-United-Stats\n",
      "18: match proccesing link: https://fbref.com/en/squads/943e8050/Burnley-Stats\n",
      "19: match proccesing link: https://fbref.com/en/squads/2abfe087/Watford-Stats\n",
      "20: match proccesing link: https://fbref.com/en/squads/1c781004/Norwich-City-Stats\n",
      "21: match proccesing link: https://fbref.com/en/squads/b8fd03ef/2020-2021/Manchester-City-Stats\n",
      "22: match proccesing link: https://fbref.com/en/squads/19538871/2020-2021/Manchester-United-Stats\n",
      "23: match proccesing link: https://fbref.com/en/squads/822bd0ba/2020-2021/Liverpool-Stats\n",
      "24: match proccesing link: https://fbref.com/en/squads/cff3d9bb/2020-2021/Chelsea-Stats\n",
      "25: match proccesing link: https://fbref.com/en/squads/a2d435b3/2020-2021/Leicester-City-Stats\n",
      "26: match proccesing link: https://fbref.com/en/squads/7c21e445/2020-2021/West-Ham-United-Stats\n",
      "27: match proccesing link: https://fbref.com/en/squads/361ca564/2020-2021/Tottenham-Hotspur-Stats\n",
      "28: match proccesing link: https://fbref.com/en/squads/18bb7c10/2020-2021/Arsenal-Stats\n",
      "29: match proccesing link: https://fbref.com/en/squads/5bfb9659/2020-2021/Leeds-United-Stats\n",
      "30: match proccesing link: https://fbref.com/en/squads/d3fd31cc/2020-2021/Everton-Stats\n",
      "31: match proccesing link: https://fbref.com/en/squads/8602292d/2020-2021/Aston-Villa-Stats\n",
      "32: match proccesing link: https://fbref.com/en/squads/b2b47a98/2020-2021/Newcastle-United-Stats\n",
      "33: match proccesing link: https://fbref.com/en/squads/8cec06e1/2020-2021/Wolverhampton-Wanderers-Stats\n",
      "34: match proccesing link: https://fbref.com/en/squads/47c64c55/2020-2021/Crystal-Palace-Stats\n",
      "35: match proccesing link: https://fbref.com/en/squads/33c895d4/2020-2021/Southampton-Stats\n",
      "36: match proccesing link: https://fbref.com/en/squads/d07537b9/2020-2021/Brighton-and-Hove-Albion-Stats\n",
      "37: match proccesing link: https://fbref.com/en/squads/943e8050/2020-2021/Burnley-Stats\n",
      "38: match proccesing link: https://fbref.com/en/squads/fd962109/2020-2021/Fulham-Stats\n",
      "39: match proccesing link: https://fbref.com/en/squads/60c6b05f/2020-2021/West-Bromwich-Albion-Stats\n",
      "40: match proccesing link: https://fbref.com/en/squads/1df6b87e/2020-2021/Sheffield-United-Stats\n",
      "1: shooting proccesing link: https://fbref.com/en/comps/9/Premier-League-Stats\n",
      "2: shooting proccesing link: https://fbref.com/en/comps/9/Premier-League-Stats\n",
      "3: shooting proccesing link: https://fbref.com/en/comps/9/Premier-League-Stats\n",
      "4: shooting proccesing link: https://fbref.com/en/comps/9/Premier-League-Stats\n",
      "5: shooting proccesing link: https://fbref.com/en/comps/9/Premier-League-Stats\n",
      "6: shooting proccesing link: https://fbref.com/en/comps/9/Premier-League-Stats\n",
      "7: shooting proccesing link: https://fbref.com/en/comps/9/Premier-League-Stats\n",
      "8: shooting proccesing link: https://fbref.com/en/comps/9/Premier-League-Stats\n",
      "9: shooting proccesing link: https://fbref.com/en/comps/9/Premier-League-Stats\n",
      "10: shooting proccesing link: https://fbref.com/en/comps/9/Premier-League-Stats\n",
      "11: shooting proccesing link: https://fbref.com/en/comps/9/Premier-League-Stats\n",
      "12: shooting proccesing link: https://fbref.com/en/comps/9/Premier-League-Stats\n",
      "13: shooting proccesing link: https://fbref.com/en/comps/9/Premier-League-Stats\n",
      "14: shooting proccesing link: https://fbref.com/en/comps/9/Premier-League-Stats\n",
      "15: shooting proccesing link: https://fbref.com/en/comps/9/Premier-League-Stats\n",
      "16: shooting proccesing link: https://fbref.com/en/comps/9/Premier-League-Stats\n",
      "17: shooting proccesing link: https://fbref.com/en/comps/9/Premier-League-Stats\n",
      "18: shooting proccesing link: https://fbref.com/en/comps/9/Premier-League-Stats\n",
      "19: shooting proccesing link: https://fbref.com/en/comps/9/Premier-League-Stats\n",
      "20: shooting proccesing link: https://fbref.com/en/comps/9/Premier-League-Stats\n",
      "21: shooting proccesing link: https://fbref.com/en/comps/9/Premier-League-Stats\n",
      "22: shooting proccesing link: https://fbref.com/en/comps/9/Premier-League-Stats\n",
      "23: shooting proccesing link: https://fbref.com/en/comps/9/Premier-League-Stats\n",
      "24: shooting proccesing link: https://fbref.com/en/comps/9/Premier-League-Stats\n",
      "25: shooting proccesing link: https://fbref.com/en/comps/9/Premier-League-Stats\n",
      "26: shooting proccesing link: https://fbref.com/en/comps/9/Premier-League-Stats\n",
      "27: shooting proccesing link: https://fbref.com/en/comps/9/Premier-League-Stats\n",
      "28: shooting proccesing link: https://fbref.com/en/comps/9/Premier-League-Stats\n",
      "29: shooting proccesing link: https://fbref.com/en/comps/9/Premier-League-Stats\n",
      "30: shooting proccesing link: https://fbref.com/en/comps/9/Premier-League-Stats\n",
      "31: shooting proccesing link: https://fbref.com/en/comps/9/Premier-League-Stats\n",
      "32: shooting proccesing link: https://fbref.com/en/comps/9/Premier-League-Stats\n",
      "33: shooting proccesing link: https://fbref.com/en/comps/9/Premier-League-Stats\n",
      "34: shooting proccesing link: https://fbref.com/en/comps/9/Premier-League-Stats\n",
      "35: shooting proccesing link: https://fbref.com/en/comps/9/Premier-League-Stats\n",
      "36: shooting proccesing link: https://fbref.com/en/comps/9/Premier-League-Stats\n",
      "37: shooting proccesing link: https://fbref.com/en/comps/9/Premier-League-Stats\n",
      "38: shooting proccesing link: https://fbref.com/en/comps/9/Premier-League-Stats\n",
      "39: shooting proccesing link: https://fbref.com/en/comps/9/Premier-League-Stats\n",
      "40: shooting proccesing link: https://fbref.com/en/comps/9/Premier-League-Stats\n"
     ]
    }
   ],
   "source": [
    "url = 'https://fbref.com/en/comps/9/Premier-League-Stats'\n",
    "columns = ['date','team','sh','sot','dist','fk','pk']\n",
    "years = list(range(2022, 2020, -1))\n",
    "final_data = combine_all_data(years)\n",
    "final_data.to_csv('matches.csv')\n"
   ]
  },
  {
   "cell_type": "code",
   "execution_count": 18,
   "metadata": {},
   "outputs": [
    {
     "data": {
      "text/plain": [
       "(1915, 26)"
      ]
     },
     "execution_count": 18,
     "metadata": {},
     "output_type": "execute_result"
    }
   ],
   "source": [
    "final_data.shape"
   ]
  },
  {
   "cell_type": "code",
   "execution_count": 20,
   "metadata": {},
   "outputs": [
    {
     "data": {
      "text/plain": [
       "2021    960\n",
       "2022    955\n",
       "Name: year, dtype: int64"
      ]
     },
     "execution_count": 20,
     "metadata": {},
     "output_type": "execute_result"
    }
   ],
   "source": [
    "final_data.year.value_counts()"
   ]
  },
  {
   "cell_type": "code",
   "execution_count": 21,
   "metadata": {},
   "outputs": [
    {
     "data": {
      "text/plain": [
       "chelsea                     120\n",
       "manchester city             119\n",
       "liverpool                   116\n",
       "tottenham hotspur           113\n",
       "leicester city              111\n",
       "manchester united           110\n",
       "arsenal                     103\n",
       "west ham united             100\n",
       "everton                      90\n",
       "southampton                  89\n",
       "brighton and hove albion     87\n",
       "burnley                      86\n",
       "crystal palace               84\n",
       "wolverhampton wanderers      84\n",
       "aston villa                  83\n",
       "newcastle united             83\n",
       "leeds united                 82\n",
       "brentford                    44\n",
       "norwich city                 43\n",
       "fulham                       43\n",
       "sheffield united             43\n",
       "watford                      41\n",
       "west bromwich albion         41\n",
       "Name: team, dtype: int64"
      ]
     },
     "execution_count": 21,
     "metadata": {},
     "output_type": "execute_result"
    }
   ],
   "source": [
    "final_data.team.value_counts()"
   ]
  },
  {
   "cell_type": "code",
   "execution_count": null,
   "metadata": {},
   "outputs": [],
   "source": []
  }
 ],
 "metadata": {
  "interpreter": {
   "hash": "ff514080f6f141fa30927d2eb1cd1793a0032bd7adceb009c10ca689f5dc9966"
  },
  "kernelspec": {
   "display_name": "Python 3.9.7 ('base')",
   "language": "python",
   "name": "python3"
  },
  "language_info": {
   "codemirror_mode": {
    "name": "ipython",
    "version": 3
   },
   "file_extension": ".py",
   "mimetype": "text/x-python",
   "name": "python",
   "nbconvert_exporter": "python",
   "pygments_lexer": "ipython3",
   "version": "3.9.7"
  },
  "orig_nbformat": 4
 },
 "nbformat": 4,
 "nbformat_minor": 2
}
